{
 "cells": [
  {
   "cell_type": "markdown",
   "metadata": {},
   "source": [
    "# Conceptos del lenguaje"
   ]
  },
  {
   "cell_type": "markdown",
   "metadata": {},
   "source": [
    "## Expresión lambda"
   ]
  },
  {
   "cell_type": "markdown",
   "metadata": {},
   "source": [
    "Las expresiones lambda fueron introducidas en Java 8 y permiten escribir funciones de una manera más concisa. Simplifican el código cuando necesitamos implementar interfaces funcionales, que son aquellas que tienen un único método abstracto.\n",
    "\n",
    "La sintaxis básica de una expresión lambda es la siguiente:\n",
    "```java\n",
    "(parametros) -> { cuerpo }\n",
    "```\n",
    "- **Parámetros**: Lista de parámetros que la función recibe.\n",
    "- **Operador flecha** (`->`): Separa los parámetros del cuerpo de la función.\n",
    "- **Cuerpo**: El bloque de código que define lo que la función hace."
   ]
  },
  {
   "cell_type": "code",
   "execution_count": null,
   "metadata": {
    "vscode": {
     "languageId": "java"
    }
   },
   "outputs": [],
   "source": [
    "import java.util.function.Predicate;\n",
    "\n",
    "// Uso de una expresión lambda para implementar un Predicate\n",
    "Predicate<Integer> esPar = (numero) -> numero % 2 == 0;\n",
    "\n",
    "// Verificar si un número es par\n",
    "System.out.println(esPar.test(4)); // true\n",
    "System.out.println(esPar.test(7)); // false"
   ]
  },
  {
   "cell_type": "markdown",
   "metadata": {},
   "source": [
    "## Referencias a métodos"
   ]
  },
  {
   "cell_type": "markdown",
   "metadata": {},
   "source": [
    "Las referencias a métodos son una forma más simplificada de escribir expresiones lambda cuando la lógica de la función puede delegarse directamente a un método existente. Se utilizan con la sintaxis `Class::method`.\n",
    "\n",
    "### Tipos de Referencias a Métodos\n",
    "1. Referencia a un método estático: `Clase::metodoEstatico`\n",
    "1. Referencia a un método de instancia de un objeto específico: `instancia::metodoDeInstancia`\n",
    "1. Referencia a un método de instancia de un objeto arbitrario de un tipo específico: `Clase::metodoDeInstancia`\n",
    "1. Referencia a un constructor: `Clase::new`"
   ]
  },
  {
   "cell_type": "code",
   "execution_count": null,
   "metadata": {
    "vscode": {
     "languageId": "java"
    }
   },
   "outputs": [],
   "source": [
    "\n",
    "import java.util.function.Function;\n",
    "\n",
    "// Usando referencia a un método estático para convertir cadenas a enteros\n",
    "Function<String, Integer> convertirEntero = Integer::parseInt;\n",
    "\n",
    "// Aplicar la función\n",
    "Integer numero = convertirEntero.apply(\"123\");\n",
    "System.out.println(numero); // 123"
   ]
  },
  {
   "cell_type": "markdown",
   "metadata": {},
   "source": [
    "## Interfaz Funcional"
   ]
  },
  {
   "cell_type": "markdown",
   "metadata": {},
   "source": [
    "Una interfaz funcional es una interfaz que **contiene exactamente un método abstracto**. Estas interfaces pueden tener métodos predeterminados o estáticos, pero solo un método abstracto. Este método abstracto es el que define la operación funcional que la interfaz representa.\n",
    "\n",
    "### Anotación @FunctionalInterface\n",
    "Para asegurarse de que una interfaz es funcional, se puede usar la anotación `@FunctionalInterface`. Esta anotación no es obligatoria, pero es una buena práctica porque el compilador lanzará un error si la interfaz anotada tiene más de un método abstracto."
   ]
  },
  {
   "cell_type": "code",
   "execution_count": null,
   "metadata": {
    "vscode": {
     "languageId": "java"
    }
   },
   "outputs": [],
   "source": [
    "@FunctionalInterface\n",
    "public interface Operacion {\n",
    "    int ejecutar(int a, int b);\n",
    "}"
   ]
  },
  {
   "cell_type": "markdown",
   "metadata": {},
   "source": [
    "Java proporciona varias interfaces funcionales en el paquete `java.util.function`. Aquí hay algunas de las más comunes:"
   ]
  },
  {
   "cell_type": "markdown",
   "metadata": {},
   "source": [
    "1. `Predicate<T>`: Representa una función que toma un argumento y devuelve un booleano."
   ]
  },
  {
   "cell_type": "code",
   "execution_count": null,
   "metadata": {
    "vscode": {
     "languageId": "java"
    }
   },
   "outputs": [],
   "source": [
    "import java.util.function.Predicate;\n",
    "\n",
    "Predicate<Integer> esPar = n -> n % 2 == 0;\n",
    "System.out.println(esPar.test(4)); // true"
   ]
  },
  {
   "cell_type": "markdown",
   "metadata": {
    "vscode": {
     "languageId": "java"
    }
   },
   "source": [
    "2. `Function<T, R>`: Representa una función que toma un argumento y devuelve un resultado."
   ]
  },
  {
   "cell_type": "code",
   "execution_count": null,
   "metadata": {
    "vscode": {
     "languageId": "java"
    }
   },
   "outputs": [],
   "source": [
    "import java.util.function.Function;\n",
    "\n",
    "Function<String, Integer> longitud = s -> s.length();\n",
    "System.out.println(longitud.apply(\"Hola\")); // 4"
   ]
  },
  {
   "cell_type": "markdown",
   "metadata": {},
   "source": [
    "3. `Supplier<T>`: Representa una función que no toma argumentos y devuelve un resultado."
   ]
  },
  {
   "cell_type": "code",
   "execution_count": null,
   "metadata": {
    "vscode": {
     "languageId": "java"
    }
   },
   "outputs": [],
   "source": [
    "import java.util.function.Supplier;\n",
    "\n",
    "Supplier<Double> aleatorio = () -> Math.random();\n",
    "System.out.println(aleatorio.get());"
   ]
  },
  {
   "cell_type": "markdown",
   "metadata": {},
   "source": [
    "4. `Consumer<T>`: Representa una función que toma un argumento y no devuelve resultado."
   ]
  },
  {
   "cell_type": "code",
   "execution_count": null,
   "metadata": {
    "vscode": {
     "languageId": "java"
    }
   },
   "outputs": [],
   "source": [
    "import java.util.function.Consumer;\n",
    "\n",
    "Consumer<String> imprimir = s -> System.out.println(s);\n",
    "imprimir.accept(\"Hola Mundo\");"
   ]
  },
  {
   "cell_type": "markdown",
   "metadata": {},
   "source": [
    "5. `BiFunction<T, U, R>`: Representa una función que toma dos argumentos y devuelve un resultado."
   ]
  },
  {
   "cell_type": "code",
   "execution_count": null,
   "metadata": {
    "vscode": {
     "languageId": "java"
    }
   },
   "outputs": [],
   "source": [
    "import java.util.function.BiFunction;\n",
    "\n",
    "BiFunction<Integer, Integer, Integer> suma = (a, b) -> a + b;\n",
    "System.out.println(suma.apply(2, 3)); // 52"
   ]
  },
  {
   "cell_type": "markdown",
   "metadata": {},
   "source": [
    "## API de Streams"
   ]
  },
  {
   "cell_type": "markdown",
   "metadata": {},
   "source": [
    "La **API de Streams** es otra característica clave introducida en Java 8 que permite trabajar con colecciones de datos de manera declarativa y funcional. Un Stream es una secuencia de elementos que admite operaciones de procesamiento como filtrado, mapeo y reducción.  \n",
    "![Java Streams](https://media.geeksforgeeks.org/wp-content/uploads/20210706120537/JavaStream.png)"
   ]
  },
  {
   "cell_type": "markdown",
   "metadata": {},
   "source": [
    "### Operaciones en Streams"
   ]
  },
  {
   "cell_type": "markdown",
   "metadata": {},
   "source": [
    "#### Creación de un Java Stream"
   ]
  },
  {
   "cell_type": "markdown",
   "metadata": {},
   "source": [
    "- Creación desde un array"
   ]
  },
  {
   "cell_type": "code",
   "execution_count": null,
   "metadata": {
    "vscode": {
     "languageId": "java"
    }
   },
   "outputs": [],
   "source": [
    "private static Employee[] arrayOfEmps = {\n",
    "        new Employee(1, \"Jeff Bezos\", 100000.0), \n",
    "        new Employee(2, \"Bill Gates\", 200000.0), \n",
    "        new Employee(3, \"Mark Zuckerberg\", 300000.0)};\n",
    "\n",
    "Sytream.of(arraOfEmps);"
   ]
  },
  {
   "cell_type": "markdown",
   "metadata": {},
   "source": [
    "- Creación desde una lista o colección existente"
   ]
  },
  {
   "cell_type": "code",
   "execution_count": null,
   "metadata": {
    "vscode": {
     "languageId": "java"
    }
   },
   "outputs": [],
   "source": [
    "private static List<Employee> empList = Arrays.asList(arrayOfEmps);\n",
    "empList.stream();"
   ]
  },
  {
   "cell_type": "markdown",
   "metadata": {},
   "source": [
    "- Crear un stream desde objetos individuales"
   ]
  },
  {
   "cell_type": "code",
   "execution_count": null,
   "metadata": {
    "vscode": {
     "languageId": "java"
    }
   },
   "outputs": [],
   "source": [
    "Stream.of(\n",
    "        new Employee(1, \"Jeff Bezos\", 100000.0), \n",
    "        new Employee(2, \"Bill Gates\", 200000.0), \n",
    "        new Employee(3, \"Mark Zuckerberg\", 300000.0));"
   ]
  },
  {
   "cell_type": "markdown",
   "metadata": {},
   "source": [
    "#### Operaciones intermedias\n",
    "Transforman un Stream en otro Stream."
   ]
  },
  {
   "cell_type": "markdown",
   "metadata": {},
   "source": [
    "- `filter`: Filtra elementos según un predicado."
   ]
  },
  {
   "cell_type": "code",
   "execution_count": null,
   "metadata": {
    "vscode": {
     "languageId": "java"
    }
   },
   "outputs": [],
   "source": [
    "List<String> nombres = Arrays.asList(\"Ana\", \"Pedro\", \"Juan\");\n",
    "List<String> nombresConA = nombres.stream()\n",
    "        .filter(nombre -> nombre.startsWith(\"A\"))\n",
    "        .collect(Collectors.toList());"
   ]
  },
  {
   "cell_type": "markdown",
   "metadata": {},
   "source": [
    "- `map`: Aplica una función a cada elemento y transforma el stream."
   ]
  },
  {
   "cell_type": "code",
   "execution_count": null,
   "metadata": {
    "vscode": {
     "languageId": "java"
    }
   },
   "outputs": [],
   "source": [
    "List<String> nombres = Arrays.asList(\"Ana\", \"Pedro\", \"Juan\");\n",
    "List<Integer> longitudes = nombres.stream()\n",
    "        .map(String::length)\n",
    "        .collect(Collectors.toList());"
   ]
  },
  {
   "cell_type": "markdown",
   "metadata": {},
   "source": [
    "- `sorted`: Ordena los elementos del stream"
   ]
  },
  {
   "cell_type": "code",
   "execution_count": null,
   "metadata": {
    "vscode": {
     "languageId": "java"
    }
   },
   "outputs": [],
   "source": [
    "List<String> nombres = Arrays.asList(\"Ana\", \"Pedro\", \"Juan\");\n",
    "List<String> nombresOrdenados = nombres.stream()\n",
    "        .sorted()\n",
    "        .collect(Collectors.toList());"
   ]
  },
  {
   "cell_type": "code",
   "execution_count": null,
   "metadata": {
    "vscode": {
     "languageId": "java"
    }
   },
   "outputs": [],
   "source": [
    "List<Employee> empList = List.of(\n",
    "        new Employee(1, \"Jeff Bezos\", 100000.0), \n",
    "        new Employee(2, \"Bill Gates\", 200000.0), \n",
    "        new Employee(3, \"Mark Zuckerberg\", 300000.0));\n",
    "\n",
    "List<Employee> employees = empList.stream()\n",
    "      .sorted((e1, e2) -> e1.getName().compareTo(e2.getName()))\n",
    "      .collect(Collectors.toList());"
   ]
  },
  {
   "cell_type": "markdown",
   "metadata": {},
   "source": [
    "- `Peek`: Obtiene un objeto del stream, aplica una función y vuelve a agregarlo al stream."
   ]
  },
  {
   "cell_type": "code",
   "execution_count": null,
   "metadata": {
    "vscode": {
     "languageId": "java"
    }
   },
   "outputs": [],
   "source": [
    "List<Employee> empList = List.of(\n",
    "        new Employee(1, \"Jeff Bezos\", 100000.0), \n",
    "        new Employee(2, \"Bill Gates\", 200000.0), \n",
    "        new Employee(3, \"Mark Zuckerberg\", 300000.0));\n",
    "\n",
    "empList.stream()\n",
    "        .peek(e -> e.salaryIncrement(10.0))\n",
    "        .peek(System.out::println)\n",
    "        .collect(Collectors.toList());"
   ]
  },
  {
   "cell_type": "markdown",
   "metadata": {},
   "source": [
    "- `flatMap`: Ayuda a aplanar estructuras de datos complejas para simplificar las operaciones."
   ]
  },
  {
   "cell_type": "code",
   "execution_count": null,
   "metadata": {
    "vscode": {
     "languageId": "java"
    }
   },
   "outputs": [],
   "source": [
    "List<List<String>> namesNested = Arrays.asList( \n",
    "        Arrays.asList(\"Jeff\", \"Bezos\"), \n",
    "        Arrays.asList(\"Bill\", \"Gates\"), \n",
    "        Arrays.asList(\"Mark\", \"Zuckerberg\"));\n",
    "\n",
    "List<String> namesFlatStream = namesNested.stream()\n",
    "        .flatMap(Collection::stream)\n",
    "        .collect(Collectors.toList());"
   ]
  },
  {
   "cell_type": "markdown",
   "metadata": {},
   "source": [
    "#### Operaciones terminales\n",
    "Generan un resultado, como una colección o un valor único."
   ]
  },
  {
   "cell_type": "markdown",
   "metadata": {},
   "source": [
    "- `collect`: Recoge los elementos del stream en una colección."
   ]
  },
  {
   "cell_type": "code",
   "execution_count": null,
   "metadata": {
    "vscode": {
     "languageId": "java"
    }
   },
   "outputs": [],
   "source": [
    "List<String> nombres = Arrays.asList(\"Ana\", \"Pedro\", \"Juan\");\n",
    "List<String> nombresConA = nombres.stream()\n",
    "        .filter(nombre -> nombre.startsWith(\"A\"))\n",
    "        .collect(Collectors.toList());"
   ]
  },
  {
   "cell_type": "markdown",
   "metadata": {},
   "source": [
    "Java Stream API proporciona una variedad de `Collectors` que puedes utilizar para agrupar, resumir y transformar datos en Streams.\n",
    "\n",
    "1. `Collectors.toList()`: Recoge los elementos del Stream en una lista.\n",
    "    ```java\n",
    "    List<String> list = stream.collect(Collectors.toList());\n",
    "    ```\n",
    "1. `Collectors.toSet()`: Recoge los elementos del Stream en un conjunto, eliminando duplicados.\n",
    "    ```java\n",
    "    Set<String> set = stream.collect(Collectors.toSet());\n",
    "    ```\n",
    "1. `Collectors.toMap()`: Recoge los elementos del Stream en un mapa (clave-valor).\n",
    "    ```java\n",
    "    Map<Integer, String> map = stream.collect(Collectors.toMap(String::length, Function.identity()));\n",
    "    ```\n",
    "1. `Collectors.joining()`: Concatena los elementos del Stream en una sola cadena.\n",
    "    ```java\n",
    "    String result = stream.collect(Collectors.joining(\", \"));\n",
    "    ```\n",
    "1. `Collectors.groupingBy()`: Agrupa los elementos del Stream por una función clasificadora.\n",
    "    ```java\n",
    "    Map<Integer, List<String>> groupedByLength = stream.collect(Collectors.groupingBy(String::length));\n",
    "    ```\n",
    "1. `Collectors.partitioningBy()`: Agrupa los elementos del Stream en un mapa con claves true y false basado en un predicado.\n",
    "    ```java\n",
    "    Map<Boolean, List<String>> partitioned = stream.collect(Collectors.partitioningBy(s -> s.length() > 3));\n",
    "    ```\n",
    "1. `Collectors.summarizingDouble()`, `Collectors.summarizingInt()`, `Collectors.summarizingLong()`: Genera estadísticas resumidas (como conteo, suma, promedio, mínimo y máximo) para un tipo de datos específico.\n",
    "    ```java\n",
    "    DoubleSummaryStatistics stats = stream.collect(Collectors.summarizingDouble(Double::valueOf));\n",
    "    ```\n",
    "1. `Collectors.averagingDouble()`, `Collectors.averagingInt()`, `Collectors.averagingLong()`: Calcula el promedio de los elementos del Stream.\n",
    "    ```java\n",
    "    double average = stream.collect(Collectors.averagingInt(Integer::intValue));\n",
    "    ```\n",
    "1. `Collectors.summingDouble()`, `Collectors.summingInt()`, `Collectors.summingLong()`: Suma los elementos del Stream.\n",
    "    ```java\n",
    "    int sum = stream.collect(Collectors.summingInt(Integer::intValue));\n",
    "    ```\n",
    "1. `Collectors.counting()`: Cuenta el número de elementos en el Stream.\n",
    "    ```java\n",
    "    long count = stream.collect(Collectors.counting());\n",
    "    ```\n",
    "1. `Collectors.reducing()`: Realiza una reducción de los elementos del Stream usando una función de acumulación.\n",
    "    ```java\n",
    "    Optional<Integer> sum = stream.collect(Collectors.reducing(Integer::sum));\n",
    "    ```\n",
    "1. `Collectors.mapping()`: Aplica una función de mapeo a los elementos y luego los recoge utilizando otro Collector.\n",
    "    ```java\n",
    "    Set<Integer> set = stream.collect(Collectors.mapping(String::length, Collectors.toSet()));\n",
    "    ```\n"
   ]
  },
  {
   "cell_type": "markdown",
   "metadata": {},
   "source": [
    "- `forEach`: Aplica una acción a cada elemento del stream."
   ]
  },
  {
   "cell_type": "code",
   "execution_count": null,
   "metadata": {
    "vscode": {
     "languageId": "java"
    }
   },
   "outputs": [],
   "source": [
    "List<String> nombres = Arrays.asList(\"Ana\", \"Pedro\", \"Juan\");\n",
    "nombres.stream()\n",
    "       .forEach(System.out::println);"
   ]
  },
  {
   "cell_type": "markdown",
   "metadata": {},
   "source": [
    "- `reduce`: Combina los elementos del stream en un solo valor."
   ]
  },
  {
   "cell_type": "code",
   "execution_count": null,
   "metadata": {
    "vscode": {
     "languageId": "java"
    }
   },
   "outputs": [],
   "source": [
    "List<Integer> numeros = Arrays.asList(1, 2, 3, 4, 5);\n",
    "int suma = numeros.stream()\n",
    "        .reduce(0, Integer::sum);"
   ]
  },
  {
   "cell_type": "markdown",
   "metadata": {},
   "source": [
    "- `count`: Devuelve el número de elementos en el stream."
   ]
  },
  {
   "cell_type": "code",
   "execution_count": null,
   "metadata": {
    "vscode": {
     "languageId": "java"
    }
   },
   "outputs": [],
   "source": [
    "List<String> nombres = Arrays.asList(\"Ana\", \"Pedro\", \"Juan\");\n",
    "long cantidad = nombres.stream()\n",
    "        .count();"
   ]
  },
  {
   "cell_type": "markdown",
   "metadata": {},
   "source": [
    "- `toList`: Convierte un stream en una lista inmutable. Esto significa que la lista resultante no puede ser modificada (no se pueden agregar, eliminar o cambiar elementos). Este método fue introducido en Java 16 y ofrece una alternativa más directa a `Collectors.toList()`. "
   ]
  },
  {
   "cell_type": "code",
   "execution_count": null,
   "metadata": {
    "vscode": {
     "languageId": "java"
    }
   },
   "outputs": [],
   "source": [
    "List<String> nombres = Arrays.asList(\"Ana\", \"Pedro\", \"Juan\");\n",
    "List<String> nombresMayuscula = nombres.stream()\n",
    "        .map(String::toUpperCase)\n",
    "        .toList();\n",
    "System.out.println(nombresMayuscula); // [ANA, PEDRO, JUAN]"
   ]
  },
  {
   "cell_type": "markdown",
   "metadata": {},
   "source": [
    "#### Operadores de corto circuito\n",
    "Es una operación de corto circuito porque deja de procesar tan pronto como encuentra un elemento que cumple con el predicado"
   ]
  },
  {
   "cell_type": "markdown",
   "metadata": {},
   "source": [
    "- `anyMatch`: Verifica si algún elemento del stream cumple con un predicado dado."
   ]
  },
  {
   "cell_type": "code",
   "execution_count": null,
   "metadata": {
    "vscode": {
     "languageId": "java"
    }
   },
   "outputs": [],
   "source": [
    "List<Integer> numeros = Arrays.asList(1, 2, 3, 4, 5);\n",
    "boolean hayPares = numeros.stream()\n",
    "        .anyMatch(n -> n % 2 == 0);\n",
    "System.out.println(hayPares); // true"
   ]
  },
  {
   "cell_type": "markdown",
   "metadata": {},
   "source": [
    "- `findFirst` Devuelve el primer elemento que cumple con el predicado, respetando el orden del stream."
   ]
  },
  {
   "cell_type": "code",
   "execution_count": null,
   "metadata": {
    "vscode": {
     "languageId": "java"
    }
   },
   "outputs": [],
   "source": [
    "List<String> nombres = Arrays.asList(\"Ana\", \"Pedro\", \"Juan\", \"Alberto\", \"Beatriz\");\n",
    "Optional<String> primerNombreConA = nombres.stream()\n",
    "        .filter(nombre -> nombre.startsWith(\"A\"))\n",
    "        .findFirst();\n",
    "primerNombreConA.ifPresent(System.out::println); // Ana"
   ]
  },
  {
   "cell_type": "markdown",
   "metadata": {},
   "source": [
    "- `findAny`: Devuelve cualquier elemento que cumpla con el predicado, sin garantizar el orden. Es útil en streams paralelos para mejorar el rendimiento."
   ]
  },
  {
   "cell_type": "code",
   "execution_count": null,
   "metadata": {
    "vscode": {
     "languageId": "java"
    }
   },
   "outputs": [],
   "source": [
    "List<Integer> numeros = Arrays.asList(1, 2, 3, 4, 5);\n",
    "Optional<Integer> cualquierPar = numeros.parallelStream()\n",
    "        .filter(n -> n % 2 == 0)\n",
    "        .findAny();\n",
    "cualquierPar.ifPresent(System.out::println); // Puede ser 2 o 4"
   ]
  },
  {
   "cell_type": "markdown",
   "metadata": {},
   "source": [
    "## Clase Optional"
   ]
  },
  {
   "cell_type": "markdown",
   "metadata": {},
   "source": [
    "`Optional` es una clase en Java introducida en Java 8 como parte del paquete `java.util`. Su propósito principal es representar valores que pueden estar presentes o ausentes, evitando así el uso de null y las peligrosas excepciones NullPointerException. Aquí te ofrezco una explicación profunda sobre su uso."
   ]
  },
  {
   "cell_type": "markdown",
   "metadata": {},
   "source": [
    "### Creación de `Optional`"
   ]
  },
  {
   "cell_type": "markdown",
   "metadata": {},
   "source": [
    "1. `empty()`: Crea un Optional vacío."
   ]
  },
  {
   "cell_type": "code",
   "execution_count": null,
   "metadata": {
    "vscode": {
     "languageId": "java"
    }
   },
   "outputs": [],
   "source": [
    "Optional<String> emptyOptional = Optional.empty();"
   ]
  },
  {
   "cell_type": "markdown",
   "metadata": {},
   "source": [
    "2. `of()`: Crea un `Optional` con un valor no nulo. Lanza `NullPointerException` si el valor es `null`."
   ]
  },
  {
   "cell_type": "code",
   "execution_count": null,
   "metadata": {
    "vscode": {
     "languageId": "java"
    }
   },
   "outputs": [],
   "source": [
    "Optional<String> nonEmptyOptional = Optional.of(\"Hello\""
   ]
  },
  {
   "cell_type": "markdown",
   "metadata": {},
   "source": [
    "3. `ofNullable()`: Crea un `Optional` que puede contener un valor nulo."
   ]
  },
  {
   "cell_type": "code",
   "execution_count": null,
   "metadata": {
    "vscode": {
     "languageId": "java"
    }
   },
   "outputs": [],
   "source": [
    "Optional<String> nullableOptional = Optional.ofNullable(null"
   ]
  },
  {
   "cell_type": "markdown",
   "metadata": {},
   "source": [
    "### Verificación de Presencia de Valor"
   ]
  },
  {
   "cell_type": "markdown",
   "metadata": {},
   "source": [
    "1. `isPresent()`: Retorna `true` si el valor está presente, de lo contrario `false`."
   ]
  },
  {
   "cell_type": "code",
   "execution_count": null,
   "metadata": {
    "vscode": {
     "languageId": "java"
    }
   },
   "outputs": [],
   "source": [
    "if (nonEmptyOptional.isPresent()) {\n",
    "    System.out.println(\"Valor presente\");"
   ]
  },
  {
   "cell_type": "markdown",
   "metadata": {},
   "source": [
    "2. `ifPresent()`: Ejecuta una acción si el valor está presente."
   ]
  },
  {
   "cell_type": "code",
   "execution_count": null,
   "metadata": {
    "vscode": {
     "languageId": "java"
    }
   },
   "outputs": [],
   "source": [
    "nonEmptyOptional.ifPresent(value -> System.out.println(\"Valor: \" + value));"
   ]
  },
  {
   "cell_type": "markdown",
   "metadata": {},
   "source": [
    "### Obtención del Valor"
   ]
  },
  {
   "cell_type": "markdown",
   "metadata": {},
   "source": [
    "1. `get()`: Retorna el valor si está presente; de lo contrario, lanza `NoSuchElementException`."
   ]
  },
  {
   "cell_type": "code",
   "execution_count": null,
   "metadata": {
    "vscode": {
     "languageId": "java"
    }
   },
   "outputs": [],
   "source": [
    "String value = nonEmptyOptional.get();"
   ]
  },
  {
   "cell_type": "markdown",
   "metadata": {},
   "source": [
    "2. `orElse()`: Retorna el valor si está presente; de lo contrario, retorna un valor predeterminado."
   ]
  },
  {
   "cell_type": "code",
   "execution_count": null,
   "metadata": {
    "vscode": {
     "languageId": "java"
    }
   },
   "outputs": [],
   "source": [
    "String value = nullableOptional.orElse(\"Default Value\");"
   ]
  },
  {
   "cell_type": "markdown",
   "metadata": {},
   "source": [
    "3. `orElseGet()`: Retorna el valor si está presente; de lo contrario, ejecuta un `Supplier` y retorna su resultado."
   ]
  },
  {
   "cell_type": "code",
   "execution_count": null,
   "metadata": {
    "vscode": {
     "languageId": "java"
    }
   },
   "outputs": [],
   "source": [
    "String value = nullableOptional.orElseGet(() -> \"Default Value from Supplier\");"
   ]
  },
  {
   "cell_type": "markdown",
   "metadata": {},
   "source": [
    "4. `orElseThrow()`: Retorna el valor si está presente; de lo contrario, lanza una excepción especificada."
   ]
  },
  {
   "cell_type": "code",
   "execution_count": null,
   "metadata": {
    "vscode": {
     "languageId": "java"
    }
   },
   "outputs": [],
   "source": [
    "String value = nullableOptional.orElseThrow(() -> new IllegalArgumentException(\"Valor ausente\"));"
   ]
  },
  {
   "cell_type": "markdown",
   "metadata": {},
   "source": [
    "### Transformaciones con `Optional`\n",
    "`Optional` permite realizar transformaciones sin necesidad de verificar manualmente la presencia de valores."
   ]
  },
  {
   "cell_type": "markdown",
   "metadata": {},
   "source": [
    "1. `map()`: Aplica una función al valor si está presente y retorna un nuevo `Optional` con el valor transformado."
   ]
  },
  {
   "cell_type": "code",
   "execution_count": null,
   "metadata": {
    "vscode": {
     "languageId": "java"
    }
   },
   "outputs": [],
   "source": [
    "Optional<Integer> length = nonEmptyOptional.map(String::length);"
   ]
  },
  {
   "cell_type": "markdown",
   "metadata": {},
   "source": [
    "2. `flatMap()`: Similar a `map()`, pero la función retorna un `Optional` y evita un `Optional<Optional<T>>`."
   ]
  },
  {
   "cell_type": "code",
   "execution_count": null,
   "metadata": {
    "vscode": {
     "languageId": "java"
    }
   },
   "outputs": [],
   "source": [
    "Optional<String> upperCaseValue = nonEmptyOptional.flatMap(value -> Optional.of(value.toUpperCase()));"
   ]
  },
  {
   "cell_type": "markdown",
   "metadata": {},
   "source": [
    "## Ejercicios de clase"
   ]
  },
  {
   "cell_type": "markdown",
   "metadata": {},
   "source": [
    "#### Ejercicio 1\n",
    "Tienes una lista de números enteros. Filtra los números que son múltiplos de 3, ordénalos en orden descendente y multiplica cada número por 5. Finalmente, recoge los resultados en una lista y muéstralos por pantalla.\n",
    "\n",
    "```Java\n",
    "var numbers = Arrays.asList(1, 2, 3, 4, 5, 6, 7, 8, 9, 10, 11, 12, 13, 14, 15);\n",
    "```\n",
    "\n",
    "#### Ejercicio 2\n",
    "Tienes una lista de objetos Empleado, cada uno con los atributos nombre y salario. Filtra los empleados que tienen un salario mayor a 60,000 y cuenta cuántos empleados cumplen esta condición. Imprime el número de empleados que tienen un salario mayor a 60,000.\n",
    "\n",
    "```Java\n",
    "var empleados = Arrays.asList(\n",
    "        new Empleado(\"Juan\", 60000),\n",
    "        new Empleado(\"Ana\", 50000),\n",
    "        new Empleado(\"Carlos\", 70000),\n",
    "        new Empleado(\"Luis\", 80000),\n",
    "        new Empleado(\"Maria\", 40000));\n",
    "```\n",
    "\n",
    "#### Ejercicio 3\n",
    "Dada una lista de palabras, agrúpalas según la longitud de cada palabra. Imprime las palabras agrupadas por su longitud, mostrando la longitud y la lista de palabras que tienen esa longitud.\n",
    "\n",
    "```Java\n",
    "var words = Arrays.asList(\"apple\", \"banana\", \"cherry\", \"date\", \"fig\", \"grape\", \"kiwi\");\n",
    "```\n",
    "\n",
    "#### Ejercicio 4\n",
    "Tienes una lista de números enteros. Calcula el promedio de estos números utilizando Streams y muestra el resultado por pantalla. Asegúrate de manejar el caso donde la lista pueda estar vacía.\n",
    "\n",
    "```Java\n",
    "var numbers = Arrays.asList(1, 2, 3, 4, 5, 6, 7, 8, 9, 10);\n",
    "\n",
    "var numbers = Arrays.asList();\n",
    "```\n",
    "\n",
    "#### Ejercicio 5\n",
    "Dada una lista de cadenas de texto, concatena todas las cadenas en una sola cadena separada por un espacio. Muestra la cadena resultante por pantalla.\n",
    "\n",
    "```Java\n",
    "var words = Arrays.asList(\"Java\", \"Streams\", \"are\", \"powerful\");\n",
    "```\n",
    "\n",
    "#### Ejercicio 6: Análisis de ventas de productos\n",
    "Tienes una lista de objetos Venta, cada uno con los atributos producto, cantidad y precioPorUnidad. Filtra las ventas de productos cuyo precio total (cantidad * precioPorUnidad) sea mayor a 100, agrupa las ventas por el nombre del producto y calcula el total de ventas por producto. Ordena los resultados por el total de ventas en orden descendente y muestra el resultado por pantalla.\n",
    "\n",
    "```Java\n",
    "var ventas = Arrays.asList(\n",
    "        new Venta(\"ProductoA\", 10, 12.5),\n",
    "        new Venta(\"ProductoB\", 5, 25),\n",
    "        new Venta(\"ProductoA\", 7, 15),\n",
    "        new Venta(\"ProductoC\", 20, 4),\n",
    "        new Venta(\"ProductoB\", 2, 30));\n",
    "```\n",
    "\n",
    "#### Ejercicio 7: Estadísticas de puntuaciones de estudiantes\n",
    "Tienes una lista de objetos Estudiante, cada uno con los atributos nombre y listaDePuntuaciones (una lista de números enteros). Calcula el promedio de las puntuaciones para cada estudiante y luego filtra los estudiantes cuyo promedio sea mayor o igual a 75. Finalmente, muestra los nombres de los estudiantes y sus promedios por pantalla, ordenados por el promedio en orden descendente.\n",
    "\n",
    "```Java\n",
    "var estudiantes = Arrays.asList(\n",
    "        new Estudiante(\"Juan\", Arrays.asList(80, 70, 90)),\n",
    "        new Estudiante(\"Ana\", Arrays.asList(60, 75, 85)),\n",
    "        new Estudiante(\"Carlos\", Arrays.asList(90, 85, 95)),\n",
    "        new Estudiante(\"Luis\", Arrays.asList(70, 65, 80)),\n",
    "        new Estudiante(\"Maria\", Arrays.asList(85, 90, 88)));\n",
    "```\n",
    "\n",
    "#### Ejercicio 8: Análisis de palabras en un texto\n",
    "Dado un párrafo de texto, convierte el texto en una lista de palabras y elimina las palabras repetidas. Luego, agrupa las palabras por su longitud y muestra cada grupo de palabras junto con la cantidad de palabras en ese grupo. Finalmente, encuentra la palabra más larga en el texto y muéstrala por pantalla.\n",
    "\n",
    "```Java\n",
    "var texto = \"\"\"\n",
    "        Dado un párrafo de texto convierte el texto en una lista de palabras y elimina las palabras repetidas. \n",
    "        Luego agrupa las palabras por su longitud y muestra cada grupo de palabras junto con la cantidad de palabras en ese grupo.\n",
    "        Finalmente encuentra la palabra más larga en el texto y muéstrala por pantalla.\n",
    "        \"\"\";\n",
    "```\n",
    "\n",
    "#### Ejercicio 9: Procesamiento de datos de transacciones bancarias\n",
    "Tienes una lista de objetos Transaccion, cada uno con los atributos id, tipo (puede ser \"ingreso\" o \"egreso\") y monto. Calcula el balance total (ingresos menos egresos) agrupando las transacciones por tipo y sumando los montos. Luego, filtra las transacciones de egresos que superen los 1,000 y muestra la lista de IDs de esas transacciones por pantalla.\n",
    "\n",
    "```Java\n",
    "var transacciones = Arrays.asList(\n",
    "        new Transaccion(\"T1\", \"ingreso\", 5000),\n",
    "        new Transaccion(\"T2\", \"egreso\", 1200),\n",
    "        new Transaccion(\"T3\", \"ingreso\", 3000),\n",
    "        new Transaccion(\"T4\", \"egreso\", 700),\n",
    "        new Transaccion(\"T5\", \"ingreso\", 2000),\n",
    "        new Transaccion(\"T6\", \"egreso\", 1500));\n",
    "```\n",
    "\n",
    "#### Ejercicio 10: Análisis de datos meteorológicos\n",
    "Tienes una lista de objetos RegistroMeteorologico, cada uno con los atributos fecha, temperatura y precipitacion. Filtra los registros que tengan una temperatura mayor a 30 grados y una precipitación menor a 5 mm. Agrupa los registros filtrados por mes y calcula la temperatura promedio para cada mes. Muestra los resultados por pantalla, ordenados por mes.\n",
    "\n",
    "```Java\n",
    "var registros = Arrays.asList(\n",
    "        new RegistroMeteorologico(LocalDate.of(2023, 1, 1), 32, 2),\n",
    "        new RegistroMeteorologico(LocalDate.of(2023, 1, 2), 28, 0),\n",
    "        new RegistroMeteorologico(LocalDate.of(2023, 2, 1), 35, 1),\n",
    "        new RegistroMeteorologico(LocalDate.of(2023, 2, 2), 30, 6),\n",
    "        new RegistroMeteorologico(LocalDate.of(2023, 3, 1), 33, 3),\n",
    "        new RegistroMeteorologico(LocalDate.of(2023, 3, 2), 29, 8));\n",
    "```"
   ]
  }
 ],
 "metadata": {
  "kernelspec": {
   "display_name": "Java",
   "language": "java",
   "name": "java"
  },
  "language_info": {
   "codemirror_mode": "java",
   "file_extension": ".jshell",
   "mimetype": "text/x-java-source",
   "name": "Java",
   "pygments_lexer": "java",
   "version": "17.0.10+7"
  }
 },
 "nbformat": 4,
 "nbformat_minor": 2
}
